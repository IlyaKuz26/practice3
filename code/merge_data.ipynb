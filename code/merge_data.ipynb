{
  "nbformat": 4,
  "nbformat_minor": 0,
  "metadata": {
    "colab": {
      "name": "merge_data.ipynb",
      "provenance": [],
      "collapsed_sections": []
    },
    "kernelspec": {
      "name": "python3",
      "display_name": "Python 3"
    },
    "language_info": {
      "name": "python"
    }
  },
  "cells": [
    {
      "cell_type": "code",
      "execution_count": null,
      "metadata": {
        "id": "P9kemsBgQVyV"
      },
      "outputs": [],
      "source": [
        "import pandas as pd\n",
        "import numpy as np"
      ]
    },
    {
      "cell_type": "markdown",
      "source": [
        "##Загрузка датасетов##"
      ],
      "metadata": {
        "id": "NzQDWXnGEATB"
      }
    },
    {
      "cell_type": "code",
      "source": [
        "spark_path = r'/content/drive/MyDrive/ЭкоТомск/practice3/spark.csv'\n",
        "spark = pd.read_csv(spark_path, index_col=0)"
      ],
      "metadata": {
        "id": "3xRNGTckQmHG"
      },
      "execution_count": null,
      "outputs": []
    },
    {
      "cell_type": "code",
      "source": [
        "efrsb_path = r'/content/drive/MyDrive/ЭкоТомск/practice3/efrsb.csv'\n",
        "efrsb = pd.read_csv(efrsb_path, index_col=0, encoding=\"utf-16\")"
      ],
      "metadata": {
        "id": "DjAsSdF3ycRH"
      },
      "execution_count": null,
      "outputs": []
    },
    {
      "cell_type": "markdown",
      "source": [
        "##Объединение данных##"
      ],
      "metadata": {
        "id": "MvUQuRU_EFxT"
      }
    },
    {
      "cell_type": "code",
      "source": [
        "def merge_data(spark, efrsb):\n",
        "\n",
        "  efrsb[\"Дата банкротства\"]= efrsb[\"Дата банкротства\"].astype(\"datetime64\") #Изменение типа данных Даты банкротства\n",
        "  data = spark.merge(efrsb, on=[\"Регистрационный номер\", \"Код налогоплательщика\"], how='left') # Объединение информации\n",
        "\n",
        "  #data.to_csv(\"/content/drive/MyDrive/ЭкоТомск/duplicate_data/duplicate_data.csv\") # Сохранение данных о компаниях с несколькими датами банкротства\n",
        "\n",
        "  data.drop_duplicates(subset=[\"Наименование\", \"Регистрационный номер\", \"Год\"], keep = 'last', inplace = True)\n",
        "\n",
        "  return data"
      ],
      "metadata": {
        "id": "2wg45L1JWnMD"
      },
      "execution_count": null,
      "outputs": []
    },
    {
      "cell_type": "code",
      "source": [
        "data = merge_data(spark, efrsb)"
      ],
      "metadata": {
        "id": "JUd9w5TeW-QD"
      },
      "execution_count": null,
      "outputs": []
    },
    {
      "cell_type": "code",
      "source": [
        "data.info(show_counts = True)"
      ],
      "metadata": {
        "colab": {
          "base_uri": "https://localhost:8080/"
        },
        "id": "xLE-MHrO6rgi",
        "outputId": "0cc9e5d7-ceab-41e5-cfb1-d7768556e6f7"
      },
      "execution_count": null,
      "outputs": [
        {
          "output_type": "stream",
          "name": "stdout",
          "text": [
            "<class 'pandas.core.frame.DataFrame'>\n",
            "Int64Index: 2846300 entries, 0 to 3104783\n",
            "Data columns (total 40 columns):\n",
            " #   Column                                             Non-Null Count    Dtype  \n",
            "---  ------                                             --------------    -----  \n",
            " 0   Наименование                                       2846300 non-null  object \n",
            " 1   Регистрационный номер                              2846300 non-null  float64\n",
            " 2   Код налогоплательщика                              2846300 non-null  float64\n",
            " 3   Вид деятельности/отрасль                           2846300 non-null  object \n",
            " 4   Код основного вида деятельности                    2846300 non-null  object \n",
            " 5   Организационно-правовая форма                      2846300 non-null  object \n",
            " 6   Форма собственности                                2846300 non-null  object \n",
            " 7   Размер компании                                    2846258 non-null  object \n",
            " 8   Важная информация                                  337634 non-null   object \n",
            " 9   Год                                                2846300 non-null  int64  \n",
            " 10  Основные средства , RUB                            1196099 non-null  float64\n",
            " 11  Внеоборотные активы, RUB                           1301418 non-null  float64\n",
            " 12  Запасы, RUB                                        1881476 non-null  float64\n",
            " 13  Дебиторская задолженность, RUB                     2460721 non-null  float64\n",
            " 14  Краткосрочные финансовые вложения, RUB             242635 non-null   float64\n",
            " 15  Денежные средства и денежные эквиваленты, RUB      2530127 non-null  float64\n",
            " 16  Оборотные активы, RUB                              2715856 non-null  float64\n",
            " 17  Активы  всего, RUB                                 2727109 non-null  float64\n",
            " 18  Нераспределенная прибыль (непокрытый убыток), RUB  1116254 non-null  float64\n",
            " 19  Капитал и резервы, RUB                             2714135 non-null  float64\n",
            " 20  Заёмные средства (долгосрочные), RUB               643865 non-null   float64\n",
            " 21  Долгосрочные обязательства, RUB                    798852 non-null   float64\n",
            " 22  Заёмные средства (краткосрочные), RUB              934555 non-null   float64\n",
            " 23  Кредиторская задолженность, RUB                    2525816 non-null  float64\n",
            " 24  Доходы будущих периодов , RUB                      34855 non-null    float64\n",
            " 25  Краткосрочные обязательства, RUB                   2574163 non-null  float64\n",
            " 26  Выручка, RUB                                       2667643 non-null  float64\n",
            " 27  Себестоимость продаж, RUB                          2498030 non-null  float64\n",
            " 28  Валовая прибыль (убыток), RUB                      1141811 non-null  float64\n",
            " 29  Коммерческие расходы, RUB                          433119 non-null   float64\n",
            " 30  Управленческие расходы, RUB                        567236 non-null   float64\n",
            " 31  Прибыль (убыток) от продажи, RUB                   2665085 non-null  float64\n",
            " 32  Проценты к получению, RUB                          175665 non-null   float64\n",
            " 33  Проценты к уплате, RUB                             335381 non-null   float64\n",
            " 34  Прочие доходы, RUB                                 1215384 non-null  float64\n",
            " 35  Прочие расходы, RUB                                2357413 non-null  float64\n",
            " 36  Прибыль (убыток) до налогообложения , RUB          2615447 non-null  float64\n",
            " 37  Текущий налог на прибыль, RUB                      1888376 non-null  float64\n",
            " 38  Чистая прибыль (убыток), RUB                       2644839 non-null  float64\n",
            " 39  Банкротство                                        2846300 non-null  int64  \n",
            "dtypes: float64(31), int64(2), object(7)\n",
            "memory usage: 954.8+ MB\n"
          ]
        }
      ]
    },
    {
      "cell_type": "markdown",
      "source": [
        "##Добавление в датасет целевого столбца##"
      ],
      "metadata": {
        "id": "OTTJ9Gf7EPH6"
      }
    },
    {
      "cell_type": "code",
      "source": [
        "years = pd.DatetimeIndex(data[\"Дата банкротства\"].to_numpy()).year\n",
        "years = years - data[\"Год\"]\n",
        "years = pd.Series(data=years)\n",
        "years.fillna(0, inplace = True)\n",
        "years = years.astype(\"int64\")"
      ],
      "metadata": {
        "id": "zlmQ9RHgAMZP"
      },
      "execution_count": null,
      "outputs": []
    },
    {
      "cell_type": "code",
      "source": [
        "a = years[~np.isnan(years)]\n",
        "print(a)"
      ],
      "metadata": {
        "colab": {
          "base_uri": "https://localhost:8080/"
        },
        "id": "i6WdYtJrFEJb",
        "outputId": "a3d828b9-8e78-43c5-98ee-1bc37f131908"
      },
      "execution_count": null,
      "outputs": [
        {
          "output_type": "stream",
          "name": "stdout",
          "text": [
            "0          0\n",
            "1          0\n",
            "2          0\n",
            "3          0\n",
            "4          0\n",
            "          ..\n",
            "3104779    0\n",
            "3104780    0\n",
            "3104781    0\n",
            "3104782    0\n",
            "3104783    0\n",
            "Length: 2846300, dtype: int64\n"
          ]
        }
      ]
    },
    {
      "cell_type": "code",
      "source": [
        "data[\"Банкротство\"] = years"
      ],
      "metadata": {
        "id": "Hl2PKNK9FRa-"
      },
      "execution_count": null,
      "outputs": []
    },
    {
      "cell_type": "code",
      "source": [
        "data = data.drop(\"Дата банкротства\", axis=1)"
      ],
      "metadata": {
        "id": "_Vni27uSjapS"
      },
      "execution_count": null,
      "outputs": []
    },
    {
      "cell_type": "code",
      "source": [
        "data.to_csv(\"/content/drive/MyDrive/ЭкоТомск/practice3/bankruptcy_data.csv\")"
      ],
      "metadata": {
        "id": "S7CqyFmTHkbE"
      },
      "execution_count": null,
      "outputs": []
    },
    {
      "cell_type": "markdown",
      "source": [
        "##Просмотр информации о компаниях -банкротах##"
      ],
      "metadata": {
        "id": "Iv9QhepSD1v9"
      }
    },
    {
      "cell_type": "code",
      "source": [
        "dates = data.loc[data[\"Дата банкротства\"].notnull(), [\"Наименование\", \"Регистрационный номер\", \"Код налогоплательщика\", \"Год\", \"Дата банкротства\", \"Банкротство\"]]"
      ],
      "metadata": {
        "id": "RaN9Y73e7nEC"
      },
      "execution_count": null,
      "outputs": []
    },
    {
      "cell_type": "code",
      "source": [
        "dates.tail(20)"
      ],
      "metadata": {
        "id": "bA-50-nN_XOs",
        "colab": {
          "base_uri": "https://localhost:8080/",
          "height": 676
        },
        "outputId": "fdeed14e-e0e1-48ac-c3f1-c99f129ad812"
      },
      "execution_count": null,
      "outputs": [
        {
          "output_type": "execute_result",
          "data": {
            "text/plain": [
              "                            Наименование  Регистрационный номер  \\\n",
              "3102902                  СО КВАДРАТ, ООО           1.067310e+12   \n",
              "3103157                   СТРОИТЕЛЬ, ООО           1.126679e+12   \n",
              "3103218                 СТРОЙМОНТАЖ, ООО           1.140280e+12   \n",
              "3103251                СТРОЙЭКСПЕРТ, ООО           1.160280e+12   \n",
              "3103337             ТАТНЕФТЬ-НК-ОЙЛ, ООО           1.021603e+12   \n",
              "3103459                  ТЕХНОСТРОЙ, ООО           1.040101e+12   \n",
              "3103619                 ТРАНСРЕСУРС, ООО           1.142901e+12   \n",
              "3103730                         УГЗ, ООО           1.057425e+12   \n",
              "3103787                        УМ-1, ООО           1.023501e+12   \n",
              "3103817     УПРАВЛЯЮЩАЯ КОМПАНИЯ №3, ООО           1.084313e+12   \n",
              "3103842         УРАЛ МОТОРС ПРЕМИУМ, ООО           1.085905e+12   \n",
              "3103935               ФАКТОР УСПЕХА, ООО           1.156320e+12   \n",
              "3104086               ХАКАССКИЙ ТЭК, ООО           1.021901e+12   \n",
              "3104163                         ЦАУ, ЗАО           1.035606e+12   \n",
              "3104273                        ЧЭПК, ООО           1.087449e+12   \n",
              "3104403                    ЭКОСТРОЙ, ООО           1.081690e+12   \n",
              "3104498                 ЭЛИТ СЕРВИС, ООО           1.124313e+12   \n",
              "3104509                  ЭЛИТ-СТРОЙ, ООО           1.137747e+12   \n",
              "3104615                ЭРТЕЛЬ, ООО ФИРМА           1.032129e+12   \n",
              "3104711  ЮПП БРОННИЦКАЯ МАНУФАКТУРА, ООО           1.025005e+12   \n",
              "\n",
              "         Код налогоплательщика   Год Дата банкротства  Банкротство  \n",
              "3102902           7.310102e+09  2020       2022-03-31            2  \n",
              "3103157           6.679017e+09  2020       2022-05-04            2  \n",
              "3103218           2.730958e+08  2020       2022-03-23            2  \n",
              "3103251           2.590135e+08  2020       2022-04-22            2  \n",
              "3103337           1.651027e+09  2020       2022-05-05            2  \n",
              "3103459           1.050433e+08  2020       2022-05-13            2  \n",
              "3103619           2.901247e+09  2020       2022-05-04            2  \n",
              "3103730           7.453148e+09  2020       2022-05-25            2  \n",
              "3103787           3.525100e+09  2020       2022-05-19            2  \n",
              "3103817           4.313007e+09  2020       2022-04-26            2  \n",
              "3103842           5.905264e+09  2020       2022-05-19            2  \n",
              "3103935           6.321374e+09  2020       2022-05-27            2  \n",
              "3104086           1.903014e+09  2020       2022-05-04            2  \n",
              "3104163           5.610076e+09  2020       2022-05-13            2  \n",
              "3104273           7.449082e+09  2020       2022-05-18            2  \n",
              "3104403           1.660116e+09  2020       2022-05-13            2  \n",
              "3104498           4.324008e+09  2020       2022-05-27            2  \n",
              "3104509           7.704842e+09  2020       2022-05-16            2  \n",
              "3104615           2.129051e+09  2020       2022-05-27            2  \n",
              "3104711           5.002003e+09  2020       2022-04-29            2  "
            ],
            "text/html": [
              "\n",
              "  <div id=\"df-c5992908-c3e6-46fc-be12-84438292cb4b\">\n",
              "    <div class=\"colab-df-container\">\n",
              "      <div>\n",
              "<style scoped>\n",
              "    .dataframe tbody tr th:only-of-type {\n",
              "        vertical-align: middle;\n",
              "    }\n",
              "\n",
              "    .dataframe tbody tr th {\n",
              "        vertical-align: top;\n",
              "    }\n",
              "\n",
              "    .dataframe thead th {\n",
              "        text-align: right;\n",
              "    }\n",
              "</style>\n",
              "<table border=\"1\" class=\"dataframe\">\n",
              "  <thead>\n",
              "    <tr style=\"text-align: right;\">\n",
              "      <th></th>\n",
              "      <th>Наименование</th>\n",
              "      <th>Регистрационный номер</th>\n",
              "      <th>Код налогоплательщика</th>\n",
              "      <th>Год</th>\n",
              "      <th>Дата банкротства</th>\n",
              "      <th>Банкротство</th>\n",
              "    </tr>\n",
              "  </thead>\n",
              "  <tbody>\n",
              "    <tr>\n",
              "      <th>3102902</th>\n",
              "      <td>СО КВАДРАТ, ООО</td>\n",
              "      <td>1.067310e+12</td>\n",
              "      <td>7.310102e+09</td>\n",
              "      <td>2020</td>\n",
              "      <td>2022-03-31</td>\n",
              "      <td>2</td>\n",
              "    </tr>\n",
              "    <tr>\n",
              "      <th>3103157</th>\n",
              "      <td>СТРОИТЕЛЬ, ООО</td>\n",
              "      <td>1.126679e+12</td>\n",
              "      <td>6.679017e+09</td>\n",
              "      <td>2020</td>\n",
              "      <td>2022-05-04</td>\n",
              "      <td>2</td>\n",
              "    </tr>\n",
              "    <tr>\n",
              "      <th>3103218</th>\n",
              "      <td>СТРОЙМОНТАЖ, ООО</td>\n",
              "      <td>1.140280e+12</td>\n",
              "      <td>2.730958e+08</td>\n",
              "      <td>2020</td>\n",
              "      <td>2022-03-23</td>\n",
              "      <td>2</td>\n",
              "    </tr>\n",
              "    <tr>\n",
              "      <th>3103251</th>\n",
              "      <td>СТРОЙЭКСПЕРТ, ООО</td>\n",
              "      <td>1.160280e+12</td>\n",
              "      <td>2.590135e+08</td>\n",
              "      <td>2020</td>\n",
              "      <td>2022-04-22</td>\n",
              "      <td>2</td>\n",
              "    </tr>\n",
              "    <tr>\n",
              "      <th>3103337</th>\n",
              "      <td>ТАТНЕФТЬ-НК-ОЙЛ, ООО</td>\n",
              "      <td>1.021603e+12</td>\n",
              "      <td>1.651027e+09</td>\n",
              "      <td>2020</td>\n",
              "      <td>2022-05-05</td>\n",
              "      <td>2</td>\n",
              "    </tr>\n",
              "    <tr>\n",
              "      <th>3103459</th>\n",
              "      <td>ТЕХНОСТРОЙ, ООО</td>\n",
              "      <td>1.040101e+12</td>\n",
              "      <td>1.050433e+08</td>\n",
              "      <td>2020</td>\n",
              "      <td>2022-05-13</td>\n",
              "      <td>2</td>\n",
              "    </tr>\n",
              "    <tr>\n",
              "      <th>3103619</th>\n",
              "      <td>ТРАНСРЕСУРС, ООО</td>\n",
              "      <td>1.142901e+12</td>\n",
              "      <td>2.901247e+09</td>\n",
              "      <td>2020</td>\n",
              "      <td>2022-05-04</td>\n",
              "      <td>2</td>\n",
              "    </tr>\n",
              "    <tr>\n",
              "      <th>3103730</th>\n",
              "      <td>УГЗ, ООО</td>\n",
              "      <td>1.057425e+12</td>\n",
              "      <td>7.453148e+09</td>\n",
              "      <td>2020</td>\n",
              "      <td>2022-05-25</td>\n",
              "      <td>2</td>\n",
              "    </tr>\n",
              "    <tr>\n",
              "      <th>3103787</th>\n",
              "      <td>УМ-1, ООО</td>\n",
              "      <td>1.023501e+12</td>\n",
              "      <td>3.525100e+09</td>\n",
              "      <td>2020</td>\n",
              "      <td>2022-05-19</td>\n",
              "      <td>2</td>\n",
              "    </tr>\n",
              "    <tr>\n",
              "      <th>3103817</th>\n",
              "      <td>УПРАВЛЯЮЩАЯ КОМПАНИЯ №3, ООО</td>\n",
              "      <td>1.084313e+12</td>\n",
              "      <td>4.313007e+09</td>\n",
              "      <td>2020</td>\n",
              "      <td>2022-04-26</td>\n",
              "      <td>2</td>\n",
              "    </tr>\n",
              "    <tr>\n",
              "      <th>3103842</th>\n",
              "      <td>УРАЛ МОТОРС ПРЕМИУМ, ООО</td>\n",
              "      <td>1.085905e+12</td>\n",
              "      <td>5.905264e+09</td>\n",
              "      <td>2020</td>\n",
              "      <td>2022-05-19</td>\n",
              "      <td>2</td>\n",
              "    </tr>\n",
              "    <tr>\n",
              "      <th>3103935</th>\n",
              "      <td>ФАКТОР УСПЕХА, ООО</td>\n",
              "      <td>1.156320e+12</td>\n",
              "      <td>6.321374e+09</td>\n",
              "      <td>2020</td>\n",
              "      <td>2022-05-27</td>\n",
              "      <td>2</td>\n",
              "    </tr>\n",
              "    <tr>\n",
              "      <th>3104086</th>\n",
              "      <td>ХАКАССКИЙ ТЭК, ООО</td>\n",
              "      <td>1.021901e+12</td>\n",
              "      <td>1.903014e+09</td>\n",
              "      <td>2020</td>\n",
              "      <td>2022-05-04</td>\n",
              "      <td>2</td>\n",
              "    </tr>\n",
              "    <tr>\n",
              "      <th>3104163</th>\n",
              "      <td>ЦАУ, ЗАО</td>\n",
              "      <td>1.035606e+12</td>\n",
              "      <td>5.610076e+09</td>\n",
              "      <td>2020</td>\n",
              "      <td>2022-05-13</td>\n",
              "      <td>2</td>\n",
              "    </tr>\n",
              "    <tr>\n",
              "      <th>3104273</th>\n",
              "      <td>ЧЭПК, ООО</td>\n",
              "      <td>1.087449e+12</td>\n",
              "      <td>7.449082e+09</td>\n",
              "      <td>2020</td>\n",
              "      <td>2022-05-18</td>\n",
              "      <td>2</td>\n",
              "    </tr>\n",
              "    <tr>\n",
              "      <th>3104403</th>\n",
              "      <td>ЭКОСТРОЙ, ООО</td>\n",
              "      <td>1.081690e+12</td>\n",
              "      <td>1.660116e+09</td>\n",
              "      <td>2020</td>\n",
              "      <td>2022-05-13</td>\n",
              "      <td>2</td>\n",
              "    </tr>\n",
              "    <tr>\n",
              "      <th>3104498</th>\n",
              "      <td>ЭЛИТ СЕРВИС, ООО</td>\n",
              "      <td>1.124313e+12</td>\n",
              "      <td>4.324008e+09</td>\n",
              "      <td>2020</td>\n",
              "      <td>2022-05-27</td>\n",
              "      <td>2</td>\n",
              "    </tr>\n",
              "    <tr>\n",
              "      <th>3104509</th>\n",
              "      <td>ЭЛИТ-СТРОЙ, ООО</td>\n",
              "      <td>1.137747e+12</td>\n",
              "      <td>7.704842e+09</td>\n",
              "      <td>2020</td>\n",
              "      <td>2022-05-16</td>\n",
              "      <td>2</td>\n",
              "    </tr>\n",
              "    <tr>\n",
              "      <th>3104615</th>\n",
              "      <td>ЭРТЕЛЬ, ООО ФИРМА</td>\n",
              "      <td>1.032129e+12</td>\n",
              "      <td>2.129051e+09</td>\n",
              "      <td>2020</td>\n",
              "      <td>2022-05-27</td>\n",
              "      <td>2</td>\n",
              "    </tr>\n",
              "    <tr>\n",
              "      <th>3104711</th>\n",
              "      <td>ЮПП БРОННИЦКАЯ МАНУФАКТУРА, ООО</td>\n",
              "      <td>1.025005e+12</td>\n",
              "      <td>5.002003e+09</td>\n",
              "      <td>2020</td>\n",
              "      <td>2022-04-29</td>\n",
              "      <td>2</td>\n",
              "    </tr>\n",
              "  </tbody>\n",
              "</table>\n",
              "</div>\n",
              "      <button class=\"colab-df-convert\" onclick=\"convertToInteractive('df-c5992908-c3e6-46fc-be12-84438292cb4b')\"\n",
              "              title=\"Convert this dataframe to an interactive table.\"\n",
              "              style=\"display:none;\">\n",
              "        \n",
              "  <svg xmlns=\"http://www.w3.org/2000/svg\" height=\"24px\"viewBox=\"0 0 24 24\"\n",
              "       width=\"24px\">\n",
              "    <path d=\"M0 0h24v24H0V0z\" fill=\"none\"/>\n",
              "    <path d=\"M18.56 5.44l.94 2.06.94-2.06 2.06-.94-2.06-.94-.94-2.06-.94 2.06-2.06.94zm-11 1L8.5 8.5l.94-2.06 2.06-.94-2.06-.94L8.5 2.5l-.94 2.06-2.06.94zm10 10l.94 2.06.94-2.06 2.06-.94-2.06-.94-.94-2.06-.94 2.06-2.06.94z\"/><path d=\"M17.41 7.96l-1.37-1.37c-.4-.4-.92-.59-1.43-.59-.52 0-1.04.2-1.43.59L10.3 9.45l-7.72 7.72c-.78.78-.78 2.05 0 2.83L4 21.41c.39.39.9.59 1.41.59.51 0 1.02-.2 1.41-.59l7.78-7.78 2.81-2.81c.8-.78.8-2.07 0-2.86zM5.41 20L4 18.59l7.72-7.72 1.47 1.35L5.41 20z\"/>\n",
              "  </svg>\n",
              "      </button>\n",
              "      \n",
              "  <style>\n",
              "    .colab-df-container {\n",
              "      display:flex;\n",
              "      flex-wrap:wrap;\n",
              "      gap: 12px;\n",
              "    }\n",
              "\n",
              "    .colab-df-convert {\n",
              "      background-color: #E8F0FE;\n",
              "      border: none;\n",
              "      border-radius: 50%;\n",
              "      cursor: pointer;\n",
              "      display: none;\n",
              "      fill: #1967D2;\n",
              "      height: 32px;\n",
              "      padding: 0 0 0 0;\n",
              "      width: 32px;\n",
              "    }\n",
              "\n",
              "    .colab-df-convert:hover {\n",
              "      background-color: #E2EBFA;\n",
              "      box-shadow: 0px 1px 2px rgba(60, 64, 67, 0.3), 0px 1px 3px 1px rgba(60, 64, 67, 0.15);\n",
              "      fill: #174EA6;\n",
              "    }\n",
              "\n",
              "    [theme=dark] .colab-df-convert {\n",
              "      background-color: #3B4455;\n",
              "      fill: #D2E3FC;\n",
              "    }\n",
              "\n",
              "    [theme=dark] .colab-df-convert:hover {\n",
              "      background-color: #434B5C;\n",
              "      box-shadow: 0px 1px 3px 1px rgba(0, 0, 0, 0.15);\n",
              "      filter: drop-shadow(0px 1px 2px rgba(0, 0, 0, 0.3));\n",
              "      fill: #FFFFFF;\n",
              "    }\n",
              "  </style>\n",
              "\n",
              "      <script>\n",
              "        const buttonEl =\n",
              "          document.querySelector('#df-c5992908-c3e6-46fc-be12-84438292cb4b button.colab-df-convert');\n",
              "        buttonEl.style.display =\n",
              "          google.colab.kernel.accessAllowed ? 'block' : 'none';\n",
              "\n",
              "        async function convertToInteractive(key) {\n",
              "          const element = document.querySelector('#df-c5992908-c3e6-46fc-be12-84438292cb4b');\n",
              "          const dataTable =\n",
              "            await google.colab.kernel.invokeFunction('convertToInteractive',\n",
              "                                                     [key], {});\n",
              "          if (!dataTable) return;\n",
              "\n",
              "          const docLinkHtml = 'Like what you see? Visit the ' +\n",
              "            '<a target=\"_blank\" href=https://colab.research.google.com/notebooks/data_table.ipynb>data table notebook</a>'\n",
              "            + ' to learn more about interactive tables.';\n",
              "          element.innerHTML = '';\n",
              "          dataTable['output_type'] = 'display_data';\n",
              "          await google.colab.output.renderOutput(dataTable, element);\n",
              "          const docLink = document.createElement('div');\n",
              "          docLink.innerHTML = docLinkHtml;\n",
              "          element.appendChild(docLink);\n",
              "        }\n",
              "      </script>\n",
              "    </div>\n",
              "  </div>\n",
              "  "
            ]
          },
          "metadata": {},
          "execution_count": 62
        }
      ]
    }
  ]
}