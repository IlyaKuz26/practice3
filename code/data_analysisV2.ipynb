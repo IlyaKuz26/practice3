{
  "nbformat": 4,
  "nbformat_minor": 0,
  "metadata": {
    "colab": {
      "name": "data_analysisV2.ipynb",
      "provenance": []
    },
    "kernelspec": {
      "name": "python3",
      "display_name": "Python 3"
    },
    "language_info": {
      "name": "python"
    }
  },
  "cells": [
    {
      "cell_type": "code",
      "execution_count": null,
      "metadata": {
        "id": "7GWsmmoR-szB"
      },
      "outputs": [],
      "source": [
        "import pandas as pd\n",
        "import numpy as np\n",
        "import matplotlib.pyplot as plt\n",
        "%matplotlib inline"
      ]
    },
    {
      "cell_type": "markdown",
      "source": [
        "###Загрузка датасета###"
      ],
      "metadata": {
        "id": "w6toEJaHAop0"
      }
    },
    {
      "cell_type": "code",
      "source": [
        "file_path = r\"/content/drive/MyDrive/ЭкоТомск/practice3/bankruptcy_data.csv\"\n",
        "data = pd.read_csv(file_path, index_col = 0)"
      ],
      "metadata": {
        "id": "jYKKhsUMQMkE"
      },
      "execution_count": null,
      "outputs": []
    },
    {
      "cell_type": "markdown",
      "source": [
        "###Получение основной информации о данных###"
      ],
      "metadata": {
        "id": "Wcq0SL2AA8lR"
      }
    },
    {
      "cell_type": "code",
      "source": [
        "data.head(10)"
      ],
      "metadata": {
        "id": "JiKuQHOnWr7i"
      },
      "execution_count": null,
      "outputs": []
    },
    {
      "cell_type": "markdown",
      "source": [
        "Колонки Название, Регистрационный номер и Код налогоплатильщика стоит удалить перед обучением модели, так как они не несут полезной информации. Дата банкротства была необходима для формирования целефой колонки и то же может быть удалена"
      ],
      "metadata": {
        "id": "_wy_E3BlA8P3"
      }
    },
    {
      "cell_type": "code",
      "source": [
        "data.shape"
      ],
      "metadata": {
        "colab": {
          "base_uri": "https://localhost:8080/"
        },
        "id": "Eb25VQ5UbFZc",
        "outputId": "57baa6e2-127d-4436-b397-8fc6c4045b94"
      },
      "execution_count": null,
      "outputs": [
        {
          "output_type": "execute_result",
          "data": {
            "text/plain": [
              "(2846300, 41)"
            ]
          },
          "metadata": {},
          "execution_count": 8
        }
      ]
    },
    {
      "cell_type": "code",
      "source": [
        "data.info(show_counts = True)"
      ],
      "metadata": {
        "colab": {
          "base_uri": "https://localhost:8080/"
        },
        "id": "ZnQp8LoTXq61",
        "outputId": "c3118b62-7ab9-4975-b379-04ff63d0eaaf"
      },
      "execution_count": null,
      "outputs": [
        {
          "output_type": "stream",
          "name": "stdout",
          "text": [
            "<class 'pandas.core.frame.DataFrame'>\n",
            "Int64Index: 2846300 entries, 0 to 3104783\n",
            "Data columns (total 41 columns):\n",
            " #   Column                                             Non-Null Count    Dtype  \n",
            "---  ------                                             --------------    -----  \n",
            " 0   Наименование                                       2846300 non-null  object \n",
            " 1   Регистрационный номер                              2846300 non-null  float64\n",
            " 2   Код налогоплательщика                              2846300 non-null  float64\n",
            " 3   Вид деятельности/отрасль                           2846300 non-null  object \n",
            " 4   Код основного вида деятельности                    2846300 non-null  object \n",
            " 5   Организационно-правовая форма                      2846300 non-null  object \n",
            " 6   Форма собственности                                2846300 non-null  object \n",
            " 7   Размер компании                                    2846258 non-null  object \n",
            " 8   Важная информация                                  337634 non-null   object \n",
            " 9   Год                                                2846300 non-null  int64  \n",
            " 10  Основные средства , RUB                            1196099 non-null  float64\n",
            " 11  Внеоборотные активы, RUB                           1301418 non-null  float64\n",
            " 12  Запасы, RUB                                        1881476 non-null  float64\n",
            " 13  Дебиторская задолженность, RUB                     2460721 non-null  float64\n",
            " 14  Краткосрочные финансовые вложения, RUB             242635 non-null   float64\n",
            " 15  Денежные средства и денежные эквиваленты, RUB      2530127 non-null  float64\n",
            " 16  Оборотные активы, RUB                              2715856 non-null  float64\n",
            " 17  Активы  всего, RUB                                 2727109 non-null  float64\n",
            " 18  Нераспределенная прибыль (непокрытый убыток), RUB  1116254 non-null  float64\n",
            " 19  Капитал и резервы, RUB                             2714135 non-null  float64\n",
            " 20  Заёмные средства (долгосрочные), RUB               643865 non-null   float64\n",
            " 21  Долгосрочные обязательства, RUB                    798852 non-null   float64\n",
            " 22  Заёмные средства (краткосрочные), RUB              934555 non-null   float64\n",
            " 23  Кредиторская задолженность, RUB                    2525816 non-null  float64\n",
            " 24  Доходы будущих периодов , RUB                      34855 non-null    float64\n",
            " 25  Краткосрочные обязательства, RUB                   2574163 non-null  float64\n",
            " 26  Выручка, RUB                                       2667643 non-null  float64\n",
            " 27  Себестоимость продаж, RUB                          2498030 non-null  float64\n",
            " 28  Валовая прибыль (убыток), RUB                      1141811 non-null  float64\n",
            " 29  Коммерческие расходы, RUB                          433119 non-null   float64\n",
            " 30  Управленческие расходы, RUB                        567236 non-null   float64\n",
            " 31  Прибыль (убыток) от продажи, RUB                   2665085 non-null  float64\n",
            " 32  Проценты к получению, RUB                          175665 non-null   float64\n",
            " 33  Проценты к уплате, RUB                             335381 non-null   float64\n",
            " 34  Прочие доходы, RUB                                 1215384 non-null  float64\n",
            " 35  Прочие расходы, RUB                                2357413 non-null  float64\n",
            " 36  Прибыль (убыток) до налогообложения , RUB          2615447 non-null  float64\n",
            " 37  Текущий налог на прибыль, RUB                      1888376 non-null  float64\n",
            " 38  Чистая прибыль (убыток), RUB                       2644839 non-null  float64\n",
            " 39  Дата банкротства                                   20980 non-null    object \n",
            " 40  Банкротство                                        2846300 non-null  int64  \n",
            "dtypes: float64(31), int64(2), object(8)\n",
            "memory usage: 912.1+ MB\n"
          ]
        }
      ]
    },
    {
      "cell_type": "markdown",
      "source": [
        "Среди значений некоторых атрибутов(Доходы будующих периодовб, Расходы, Проценты) имеется очень много пропусков, возможно стоит удалить такие колонки"
      ],
      "metadata": {
        "id": "uGWZn9HMxaZh"
      }
    },
    {
      "cell_type": "code",
      "source": [
        "data.describe(include='all')"
      ],
      "metadata": {
        "colab": {
          "base_uri": "https://localhost:8080/",
          "height": 592
        },
        "id": "uoKsCE8pCJGR",
        "outputId": "059fbb85-5a6b-4b94-e569-02a560693fbb"
      },
      "execution_count": null,
      "outputs": [
        {
          "output_type": "execute_result",
          "data": {
            "text/plain": [
              "       Наименование  Регистрационный номер  Код налогоплательщика  \\\n",
              "count       2846300           2.846300e+06           2.846300e+06   \n",
              "unique       814844                    NaN                    NaN   \n",
              "top     ВЕКТОР, ООО                    NaN                    NaN   \n",
              "freq           3954                    NaN                    NaN   \n",
              "mean            NaN           1.223658e+12           5.452348e+09   \n",
              "std             NaN           6.169736e+11           2.376860e+09   \n",
              "min             NaN           1.001602e+12           1.000018e+08   \n",
              "25%             NaN           1.083254e+12           3.528061e+09   \n",
              "50%             NaN           1.143256e+12           5.903107e+09   \n",
              "75%             NaN           1.177746e+12           7.709930e+09   \n",
              "max             NaN           5.187746e+12           9.901089e+09   \n",
              "\n",
              "                    Вид деятельности/отрасль Код основного вида деятельности  \\\n",
              "count                                2846300                         2846300   \n",
              "unique                                  2187                            2274   \n",
              "top     Строительство жилых и нежилых зданий                           41.20   \n",
              "freq                                  169564                          147226   \n",
              "mean                                     NaN                             NaN   \n",
              "std                                      NaN                             NaN   \n",
              "min                                      NaN                             NaN   \n",
              "25%                                      NaN                             NaN   \n",
              "50%                                      NaN                             NaN   \n",
              "75%                                      NaN                             NaN   \n",
              "max                                      NaN                             NaN   \n",
              "\n",
              "                   Организационно-правовая форма    Форма собственности  \\\n",
              "count                                    2846300                2846300   \n",
              "unique                                        17                      7   \n",
              "top     Общества с ограниченной ответственностью  Частная собственность   \n",
              "freq                                     2770682                2835844   \n",
              "mean                                         NaN                    NaN   \n",
              "std                                          NaN                    NaN   \n",
              "min                                          NaN                    NaN   \n",
              "25%                                          NaN                    NaN   \n",
              "50%                                          NaN                    NaN   \n",
              "75%                                          NaN                    NaN   \n",
              "max                                          NaN                    NaN   \n",
              "\n",
              "         Размер компании                                  Важная информация  \\\n",
              "count            2846258                                             337634   \n",
              "unique                 4                                              64107   \n",
              "top     Микропредприятия  Регистрирующим органом принято решение о предс...   \n",
              "freq             2558530                                               1182   \n",
              "mean                 NaN                                                NaN   \n",
              "std                  NaN                                                NaN   \n",
              "min                  NaN                                                NaN   \n",
              "25%                  NaN                                                NaN   \n",
              "50%                  NaN                                                NaN   \n",
              "75%                  NaN                                                NaN   \n",
              "max                  NaN                                                NaN   \n",
              "\n",
              "              Год  ...  Прибыль (убыток) от продажи, RUB  \\\n",
              "count   2846300.0  ...                      2.665085e+06   \n",
              "unique        NaN  ...                               NaN   \n",
              "top           NaN  ...                               NaN   \n",
              "freq          NaN  ...                               NaN   \n",
              "mean       2019.5  ...                      3.837170e+06   \n",
              "std           0.5  ...                      1.000618e+08   \n",
              "min        2019.0  ...                     -2.039220e+10   \n",
              "25%        2019.0  ...                      2.900000e+04   \n",
              "50%        2019.5  ...                      3.430000e+05   \n",
              "75%        2020.0  ...                      1.950000e+06   \n",
              "max        2020.0  ...                      8.658032e+10   \n",
              "\n",
              "        Проценты к получению, RUB  Проценты к уплате, RUB  Прочие доходы, RUB  \\\n",
              "count                1.756650e+05            3.353810e+05        1.215384e+06   \n",
              "unique                        NaN                     NaN                 NaN   \n",
              "top                           NaN                     NaN                 NaN   \n",
              "freq                          NaN                     NaN                 NaN   \n",
              "mean                 4.988463e+06            5.322106e+06        1.259265e+07   \n",
              "std                  1.211765e+08            7.692691e+07        1.279879e+09   \n",
              "min                 -5.746600e+07           -8.240000e+05       -3.956140e+08   \n",
              "25%                  2.900000e+04            5.700000e+04        3.100000e+04   \n",
              "50%                  2.030000e+05            3.140000e+05        2.550000e+05   \n",
              "75%                  1.205000e+06            1.612000e+06        1.902000e+06   \n",
              "max                  3.030568e+10            1.950888e+10        1.114498e+12   \n",
              "\n",
              "        Прочие расходы, RUB  Прибыль (убыток) до налогообложения , RUB  \\\n",
              "count          2.357413e+06                               2.615447e+06   \n",
              "unique                  NaN                                        NaN   \n",
              "top                     NaN                                        NaN   \n",
              "freq                    NaN                                        NaN   \n",
              "mean           6.859203e+06                               3.956859e+06   \n",
              "std            8.033771e+08                               5.206123e+08   \n",
              "min           -2.021000e+06                              -4.813755e+10   \n",
              "25%            3.000000e+04                               1.900000e+04   \n",
              "50%            1.090000e+05                               2.740000e+05   \n",
              "75%            6.970000e+05                               1.651000e+06   \n",
              "max            1.115396e+12                               6.171481e+11   \n",
              "\n",
              "        Текущий налог на прибыль, RUB  Чистая прибыль (убыток), RUB  \\\n",
              "count                    1.888376e+06                  2.644839e+06   \n",
              "unique                            NaN                           NaN   \n",
              "top                               NaN                           NaN   \n",
              "freq                              NaN                           NaN   \n",
              "mean                    -9.280853e+04                  3.317357e+06   \n",
              "std                      3.943380e+07                  5.143539e+08   \n",
              "min                     -4.423400e+10                 -4.447089e+10   \n",
              "25%                     -9.000000e+03                  8.000000e+03   \n",
              "50%                      3.200000e+04                  2.010000e+05   \n",
              "75%                      1.770000e+05                  1.351000e+06   \n",
              "max                      8.273174e+09                  6.166543e+11   \n",
              "\n",
              "        Дата банкротства   Банкротство  \n",
              "count              20980  2.846300e+06  \n",
              "unique               307           NaN  \n",
              "top           2022-05-27           NaN  \n",
              "freq                 992           NaN  \n",
              "mean                 NaN  1.784000e-02  \n",
              "std                  NaN  2.127049e-01  \n",
              "min                  NaN  0.000000e+00  \n",
              "25%                  NaN  0.000000e+00  \n",
              "50%                  NaN  0.000000e+00  \n",
              "75%                  NaN  0.000000e+00  \n",
              "max                  NaN  3.000000e+00  \n",
              "\n",
              "[11 rows x 41 columns]"
            ],
            "text/html": [
              "\n",
              "  <div id=\"df-258b70ab-450d-4df4-b749-8d3dea12247d\">\n",
              "    <div class=\"colab-df-container\">\n",
              "      <div>\n",
              "<style scoped>\n",
              "    .dataframe tbody tr th:only-of-type {\n",
              "        vertical-align: middle;\n",
              "    }\n",
              "\n",
              "    .dataframe tbody tr th {\n",
              "        vertical-align: top;\n",
              "    }\n",
              "\n",
              "    .dataframe thead th {\n",
              "        text-align: right;\n",
              "    }\n",
              "</style>\n",
              "<table border=\"1\" class=\"dataframe\">\n",
              "  <thead>\n",
              "    <tr style=\"text-align: right;\">\n",
              "      <th></th>\n",
              "      <th>Наименование</th>\n",
              "      <th>Регистрационный номер</th>\n",
              "      <th>Код налогоплательщика</th>\n",
              "      <th>Вид деятельности/отрасль</th>\n",
              "      <th>Код основного вида деятельности</th>\n",
              "      <th>Организационно-правовая форма</th>\n",
              "      <th>Форма собственности</th>\n",
              "      <th>Размер компании</th>\n",
              "      <th>Важная информация</th>\n",
              "      <th>Год</th>\n",
              "      <th>...</th>\n",
              "      <th>Прибыль (убыток) от продажи, RUB</th>\n",
              "      <th>Проценты к получению, RUB</th>\n",
              "      <th>Проценты к уплате, RUB</th>\n",
              "      <th>Прочие доходы, RUB</th>\n",
              "      <th>Прочие расходы, RUB</th>\n",
              "      <th>Прибыль (убыток) до налогообложения , RUB</th>\n",
              "      <th>Текущий налог на прибыль, RUB</th>\n",
              "      <th>Чистая прибыль (убыток), RUB</th>\n",
              "      <th>Дата банкротства</th>\n",
              "      <th>Банкротство</th>\n",
              "    </tr>\n",
              "  </thead>\n",
              "  <tbody>\n",
              "    <tr>\n",
              "      <th>count</th>\n",
              "      <td>2846300</td>\n",
              "      <td>2.846300e+06</td>\n",
              "      <td>2.846300e+06</td>\n",
              "      <td>2846300</td>\n",
              "      <td>2846300</td>\n",
              "      <td>2846300</td>\n",
              "      <td>2846300</td>\n",
              "      <td>2846258</td>\n",
              "      <td>337634</td>\n",
              "      <td>2846300.0</td>\n",
              "      <td>...</td>\n",
              "      <td>2.665085e+06</td>\n",
              "      <td>1.756650e+05</td>\n",
              "      <td>3.353810e+05</td>\n",
              "      <td>1.215384e+06</td>\n",
              "      <td>2.357413e+06</td>\n",
              "      <td>2.615447e+06</td>\n",
              "      <td>1.888376e+06</td>\n",
              "      <td>2.644839e+06</td>\n",
              "      <td>20980</td>\n",
              "      <td>2.846300e+06</td>\n",
              "    </tr>\n",
              "    <tr>\n",
              "      <th>unique</th>\n",
              "      <td>814844</td>\n",
              "      <td>NaN</td>\n",
              "      <td>NaN</td>\n",
              "      <td>2187</td>\n",
              "      <td>2274</td>\n",
              "      <td>17</td>\n",
              "      <td>7</td>\n",
              "      <td>4</td>\n",
              "      <td>64107</td>\n",
              "      <td>NaN</td>\n",
              "      <td>...</td>\n",
              "      <td>NaN</td>\n",
              "      <td>NaN</td>\n",
              "      <td>NaN</td>\n",
              "      <td>NaN</td>\n",
              "      <td>NaN</td>\n",
              "      <td>NaN</td>\n",
              "      <td>NaN</td>\n",
              "      <td>NaN</td>\n",
              "      <td>307</td>\n",
              "      <td>NaN</td>\n",
              "    </tr>\n",
              "    <tr>\n",
              "      <th>top</th>\n",
              "      <td>ВЕКТОР, ООО</td>\n",
              "      <td>NaN</td>\n",
              "      <td>NaN</td>\n",
              "      <td>Строительство жилых и нежилых зданий</td>\n",
              "      <td>41.20</td>\n",
              "      <td>Общества с ограниченной ответственностью</td>\n",
              "      <td>Частная собственность</td>\n",
              "      <td>Микропредприятия</td>\n",
              "      <td>Регистрирующим органом принято решение о предс...</td>\n",
              "      <td>NaN</td>\n",
              "      <td>...</td>\n",
              "      <td>NaN</td>\n",
              "      <td>NaN</td>\n",
              "      <td>NaN</td>\n",
              "      <td>NaN</td>\n",
              "      <td>NaN</td>\n",
              "      <td>NaN</td>\n",
              "      <td>NaN</td>\n",
              "      <td>NaN</td>\n",
              "      <td>2022-05-27</td>\n",
              "      <td>NaN</td>\n",
              "    </tr>\n",
              "    <tr>\n",
              "      <th>freq</th>\n",
              "      <td>3954</td>\n",
              "      <td>NaN</td>\n",
              "      <td>NaN</td>\n",
              "      <td>169564</td>\n",
              "      <td>147226</td>\n",
              "      <td>2770682</td>\n",
              "      <td>2835844</td>\n",
              "      <td>2558530</td>\n",
              "      <td>1182</td>\n",
              "      <td>NaN</td>\n",
              "      <td>...</td>\n",
              "      <td>NaN</td>\n",
              "      <td>NaN</td>\n",
              "      <td>NaN</td>\n",
              "      <td>NaN</td>\n",
              "      <td>NaN</td>\n",
              "      <td>NaN</td>\n",
              "      <td>NaN</td>\n",
              "      <td>NaN</td>\n",
              "      <td>992</td>\n",
              "      <td>NaN</td>\n",
              "    </tr>\n",
              "    <tr>\n",
              "      <th>mean</th>\n",
              "      <td>NaN</td>\n",
              "      <td>1.223658e+12</td>\n",
              "      <td>5.452348e+09</td>\n",
              "      <td>NaN</td>\n",
              "      <td>NaN</td>\n",
              "      <td>NaN</td>\n",
              "      <td>NaN</td>\n",
              "      <td>NaN</td>\n",
              "      <td>NaN</td>\n",
              "      <td>2019.5</td>\n",
              "      <td>...</td>\n",
              "      <td>3.837170e+06</td>\n",
              "      <td>4.988463e+06</td>\n",
              "      <td>5.322106e+06</td>\n",
              "      <td>1.259265e+07</td>\n",
              "      <td>6.859203e+06</td>\n",
              "      <td>3.956859e+06</td>\n",
              "      <td>-9.280853e+04</td>\n",
              "      <td>3.317357e+06</td>\n",
              "      <td>NaN</td>\n",
              "      <td>1.784000e-02</td>\n",
              "    </tr>\n",
              "    <tr>\n",
              "      <th>std</th>\n",
              "      <td>NaN</td>\n",
              "      <td>6.169736e+11</td>\n",
              "      <td>2.376860e+09</td>\n",
              "      <td>NaN</td>\n",
              "      <td>NaN</td>\n",
              "      <td>NaN</td>\n",
              "      <td>NaN</td>\n",
              "      <td>NaN</td>\n",
              "      <td>NaN</td>\n",
              "      <td>0.5</td>\n",
              "      <td>...</td>\n",
              "      <td>1.000618e+08</td>\n",
              "      <td>1.211765e+08</td>\n",
              "      <td>7.692691e+07</td>\n",
              "      <td>1.279879e+09</td>\n",
              "      <td>8.033771e+08</td>\n",
              "      <td>5.206123e+08</td>\n",
              "      <td>3.943380e+07</td>\n",
              "      <td>5.143539e+08</td>\n",
              "      <td>NaN</td>\n",
              "      <td>2.127049e-01</td>\n",
              "    </tr>\n",
              "    <tr>\n",
              "      <th>min</th>\n",
              "      <td>NaN</td>\n",
              "      <td>1.001602e+12</td>\n",
              "      <td>1.000018e+08</td>\n",
              "      <td>NaN</td>\n",
              "      <td>NaN</td>\n",
              "      <td>NaN</td>\n",
              "      <td>NaN</td>\n",
              "      <td>NaN</td>\n",
              "      <td>NaN</td>\n",
              "      <td>2019.0</td>\n",
              "      <td>...</td>\n",
              "      <td>-2.039220e+10</td>\n",
              "      <td>-5.746600e+07</td>\n",
              "      <td>-8.240000e+05</td>\n",
              "      <td>-3.956140e+08</td>\n",
              "      <td>-2.021000e+06</td>\n",
              "      <td>-4.813755e+10</td>\n",
              "      <td>-4.423400e+10</td>\n",
              "      <td>-4.447089e+10</td>\n",
              "      <td>NaN</td>\n",
              "      <td>0.000000e+00</td>\n",
              "    </tr>\n",
              "    <tr>\n",
              "      <th>25%</th>\n",
              "      <td>NaN</td>\n",
              "      <td>1.083254e+12</td>\n",
              "      <td>3.528061e+09</td>\n",
              "      <td>NaN</td>\n",
              "      <td>NaN</td>\n",
              "      <td>NaN</td>\n",
              "      <td>NaN</td>\n",
              "      <td>NaN</td>\n",
              "      <td>NaN</td>\n",
              "      <td>2019.0</td>\n",
              "      <td>...</td>\n",
              "      <td>2.900000e+04</td>\n",
              "      <td>2.900000e+04</td>\n",
              "      <td>5.700000e+04</td>\n",
              "      <td>3.100000e+04</td>\n",
              "      <td>3.000000e+04</td>\n",
              "      <td>1.900000e+04</td>\n",
              "      <td>-9.000000e+03</td>\n",
              "      <td>8.000000e+03</td>\n",
              "      <td>NaN</td>\n",
              "      <td>0.000000e+00</td>\n",
              "    </tr>\n",
              "    <tr>\n",
              "      <th>50%</th>\n",
              "      <td>NaN</td>\n",
              "      <td>1.143256e+12</td>\n",
              "      <td>5.903107e+09</td>\n",
              "      <td>NaN</td>\n",
              "      <td>NaN</td>\n",
              "      <td>NaN</td>\n",
              "      <td>NaN</td>\n",
              "      <td>NaN</td>\n",
              "      <td>NaN</td>\n",
              "      <td>2019.5</td>\n",
              "      <td>...</td>\n",
              "      <td>3.430000e+05</td>\n",
              "      <td>2.030000e+05</td>\n",
              "      <td>3.140000e+05</td>\n",
              "      <td>2.550000e+05</td>\n",
              "      <td>1.090000e+05</td>\n",
              "      <td>2.740000e+05</td>\n",
              "      <td>3.200000e+04</td>\n",
              "      <td>2.010000e+05</td>\n",
              "      <td>NaN</td>\n",
              "      <td>0.000000e+00</td>\n",
              "    </tr>\n",
              "    <tr>\n",
              "      <th>75%</th>\n",
              "      <td>NaN</td>\n",
              "      <td>1.177746e+12</td>\n",
              "      <td>7.709930e+09</td>\n",
              "      <td>NaN</td>\n",
              "      <td>NaN</td>\n",
              "      <td>NaN</td>\n",
              "      <td>NaN</td>\n",
              "      <td>NaN</td>\n",
              "      <td>NaN</td>\n",
              "      <td>2020.0</td>\n",
              "      <td>...</td>\n",
              "      <td>1.950000e+06</td>\n",
              "      <td>1.205000e+06</td>\n",
              "      <td>1.612000e+06</td>\n",
              "      <td>1.902000e+06</td>\n",
              "      <td>6.970000e+05</td>\n",
              "      <td>1.651000e+06</td>\n",
              "      <td>1.770000e+05</td>\n",
              "      <td>1.351000e+06</td>\n",
              "      <td>NaN</td>\n",
              "      <td>0.000000e+00</td>\n",
              "    </tr>\n",
              "    <tr>\n",
              "      <th>max</th>\n",
              "      <td>NaN</td>\n",
              "      <td>5.187746e+12</td>\n",
              "      <td>9.901089e+09</td>\n",
              "      <td>NaN</td>\n",
              "      <td>NaN</td>\n",
              "      <td>NaN</td>\n",
              "      <td>NaN</td>\n",
              "      <td>NaN</td>\n",
              "      <td>NaN</td>\n",
              "      <td>2020.0</td>\n",
              "      <td>...</td>\n",
              "      <td>8.658032e+10</td>\n",
              "      <td>3.030568e+10</td>\n",
              "      <td>1.950888e+10</td>\n",
              "      <td>1.114498e+12</td>\n",
              "      <td>1.115396e+12</td>\n",
              "      <td>6.171481e+11</td>\n",
              "      <td>8.273174e+09</td>\n",
              "      <td>6.166543e+11</td>\n",
              "      <td>NaN</td>\n",
              "      <td>3.000000e+00</td>\n",
              "    </tr>\n",
              "  </tbody>\n",
              "</table>\n",
              "<p>11 rows × 41 columns</p>\n",
              "</div>\n",
              "      <button class=\"colab-df-convert\" onclick=\"convertToInteractive('df-258b70ab-450d-4df4-b749-8d3dea12247d')\"\n",
              "              title=\"Convert this dataframe to an interactive table.\"\n",
              "              style=\"display:none;\">\n",
              "        \n",
              "  <svg xmlns=\"http://www.w3.org/2000/svg\" height=\"24px\"viewBox=\"0 0 24 24\"\n",
              "       width=\"24px\">\n",
              "    <path d=\"M0 0h24v24H0V0z\" fill=\"none\"/>\n",
              "    <path d=\"M18.56 5.44l.94 2.06.94-2.06 2.06-.94-2.06-.94-.94-2.06-.94 2.06-2.06.94zm-11 1L8.5 8.5l.94-2.06 2.06-.94-2.06-.94L8.5 2.5l-.94 2.06-2.06.94zm10 10l.94 2.06.94-2.06 2.06-.94-2.06-.94-.94-2.06-.94 2.06-2.06.94z\"/><path d=\"M17.41 7.96l-1.37-1.37c-.4-.4-.92-.59-1.43-.59-.52 0-1.04.2-1.43.59L10.3 9.45l-7.72 7.72c-.78.78-.78 2.05 0 2.83L4 21.41c.39.39.9.59 1.41.59.51 0 1.02-.2 1.41-.59l7.78-7.78 2.81-2.81c.8-.78.8-2.07 0-2.86zM5.41 20L4 18.59l7.72-7.72 1.47 1.35L5.41 20z\"/>\n",
              "  </svg>\n",
              "      </button>\n",
              "      \n",
              "  <style>\n",
              "    .colab-df-container {\n",
              "      display:flex;\n",
              "      flex-wrap:wrap;\n",
              "      gap: 12px;\n",
              "    }\n",
              "\n",
              "    .colab-df-convert {\n",
              "      background-color: #E8F0FE;\n",
              "      border: none;\n",
              "      border-radius: 50%;\n",
              "      cursor: pointer;\n",
              "      display: none;\n",
              "      fill: #1967D2;\n",
              "      height: 32px;\n",
              "      padding: 0 0 0 0;\n",
              "      width: 32px;\n",
              "    }\n",
              "\n",
              "    .colab-df-convert:hover {\n",
              "      background-color: #E2EBFA;\n",
              "      box-shadow: 0px 1px 2px rgba(60, 64, 67, 0.3), 0px 1px 3px 1px rgba(60, 64, 67, 0.15);\n",
              "      fill: #174EA6;\n",
              "    }\n",
              "\n",
              "    [theme=dark] .colab-df-convert {\n",
              "      background-color: #3B4455;\n",
              "      fill: #D2E3FC;\n",
              "    }\n",
              "\n",
              "    [theme=dark] .colab-df-convert:hover {\n",
              "      background-color: #434B5C;\n",
              "      box-shadow: 0px 1px 3px 1px rgba(0, 0, 0, 0.15);\n",
              "      filter: drop-shadow(0px 1px 2px rgba(0, 0, 0, 0.3));\n",
              "      fill: #FFFFFF;\n",
              "    }\n",
              "  </style>\n",
              "\n",
              "      <script>\n",
              "        const buttonEl =\n",
              "          document.querySelector('#df-258b70ab-450d-4df4-b749-8d3dea12247d button.colab-df-convert');\n",
              "        buttonEl.style.display =\n",
              "          google.colab.kernel.accessAllowed ? 'block' : 'none';\n",
              "\n",
              "        async function convertToInteractive(key) {\n",
              "          const element = document.querySelector('#df-258b70ab-450d-4df4-b749-8d3dea12247d');\n",
              "          const dataTable =\n",
              "            await google.colab.kernel.invokeFunction('convertToInteractive',\n",
              "                                                     [key], {});\n",
              "          if (!dataTable) return;\n",
              "\n",
              "          const docLinkHtml = 'Like what you see? Visit the ' +\n",
              "            '<a target=\"_blank\" href=https://colab.research.google.com/notebooks/data_table.ipynb>data table notebook</a>'\n",
              "            + ' to learn more about interactive tables.';\n",
              "          element.innerHTML = '';\n",
              "          dataTable['output_type'] = 'display_data';\n",
              "          await google.colab.output.renderOutput(dataTable, element);\n",
              "          const docLink = document.createElement('div');\n",
              "          docLink.innerHTML = docLinkHtml;\n",
              "          element.appendChild(docLink);\n",
              "        }\n",
              "      </script>\n",
              "    </div>\n",
              "  </div>\n",
              "  "
            ]
          },
          "metadata": {},
          "execution_count": 13
        }
      ]
    },
    {
      "cell_type": "markdown",
      "source": [
        "Имеет смысл в дальнейшем перевести категориальные атрибуты (Вид деятельности, Организационно-правовая форма, Форма собственности и Размер компании) в числовые. Важная информация обычно говорит об наличии у компании определенных проблем, так что имеет смысл перевести этот атрибут в числовой со значениями 0 или 1(нет информации или есть)."
      ],
      "metadata": {
        "id": "30jfhNMFCg90"
      }
    },
    {
      "cell_type": "markdown",
      "source": [
        "###Просмотр информации о категориальных атрибутах###"
      ],
      "metadata": {
        "id": "iDyWPMe3Bzpm"
      }
    },
    {
      "cell_type": "code",
      "source": [
        "data[\"Организационно-правовая форма\"].value_counts()"
      ],
      "metadata": {
        "colab": {
          "base_uri": "https://localhost:8080/"
        },
        "outputId": "aaccd5ae-890d-4148-dec3-489c400bafe2",
        "id": "7xwT0YU7ruc5"
      },
      "execution_count": null,
      "outputs": [
        {
          "output_type": "execute_result",
          "data": {
            "text/plain": [
              "Общества с ограниченной ответственностью                                                   2770682\n",
              "Непубличные акционерные общества                                                             52498\n",
              "Публичные акционерные общества                                                                8158\n",
              "Сельскохозяйственные производственные кооперативы                                             5826\n",
              "Крестьянские (фермерские) хозяйства                                                           5344\n",
              "Производственные кооперативы (кроме сельскохозяйственных производственных кооперативов)       1884\n",
              "Сельскохозяйственные артели (колхозы)                                                         1032\n",
              "Товарищества на вере (коммандитные товарищества)                                               214\n",
              "Рыболовецкие артели (колхозы)                                                                  210\n",
              "Производственные кооперативы (артели)                                                          170\n",
              "Полные товарищества                                                                            108\n",
              "Кооперативные хозяйства (коопхозы)                                                              76\n",
              "Акционерные общества                                                                            52\n",
              "Хозяйственные партнерства                                                                       20\n",
              "Прочие юридические лица, являющиеся коммерческими организациями                                 14\n",
              "Филиалы юридических лиц                                                                         10\n",
              "Представительства юридических лиц                                                                2\n",
              "Name: Организационно-правовая форма, dtype: int64"
            ]
          },
          "metadata": {},
          "execution_count": 3
        }
      ]
    },
    {
      "cell_type": "code",
      "source": [
        "data[\"Форма собственности\"].value_counts()"
      ],
      "metadata": {
        "colab": {
          "base_uri": "https://localhost:8080/"
        },
        "outputId": "06352086-1395-4e60-a34e-de30f7ac6cbd",
        "id": "AOGqz766r05W"
      },
      "execution_count": null,
      "outputs": [
        {
          "output_type": "execute_result",
          "data": {
            "text/plain": [
              "Частная собственность                                                                                                   2835844\n",
              "Иная смешанная российская собственность                                                                                    3994\n",
              "Смешанная российская собственность с долей федеральной собственности                                                       2620\n",
              "Смешанная российская собственность с долей собственности субъектов Российской Федерации                                    1612\n",
              "Собственность потребительской кооперации                                                                                   1244\n",
              "Собственность российских граждан, постоянно проживающих за границей                                                         868\n",
              "Смешанная российская собственность с долями федеральной собственности и собственности субъектов Российской Федерации        118\n",
              "Name: Форма собственности, dtype: int64"
            ]
          },
          "metadata": {},
          "execution_count": 4
        }
      ]
    },
    {
      "cell_type": "code",
      "source": [
        "data[\"Размер компании\"].value_counts()"
      ],
      "metadata": {
        "colab": {
          "base_uri": "https://localhost:8080/"
        },
        "id": "xOHAI95XT17t",
        "outputId": "253bee7d-7786-4f8e-b720-98bad6d663bd"
      },
      "execution_count": null,
      "outputs": [
        {
          "output_type": "execute_result",
          "data": {
            "text/plain": [
              "Микропредприятия       2558530\n",
              "Малые предприятия       247624\n",
              "Средние предприятия      33920\n",
              "Крупные предприятия       6184\n",
              "Name: Размер компании, dtype: int64"
            ]
          },
          "metadata": {},
          "execution_count": 6
        }
      ]
    },
    {
      "cell_type": "markdown",
      "source": [
        "Имеет смысл в дальнейшем перевести номинальные атрибуты в числовые. Значения в этих атрибутах несбалансированы."
      ],
      "metadata": {
        "id": "DOWccDMbpx7Y"
      }
    },
    {
      "cell_type": "markdown",
      "source": [
        "###Изучения целевого атрибута###"
      ],
      "metadata": {
        "id": "uEIptpZyUIeS"
      }
    },
    {
      "cell_type": "code",
      "source": [
        "num_bankrupt = data[(data['Банкротство'] != 0)]['Банкротство'].count()/2\n",
        "print(f\"Число уникальных компаний банкротов: {num_bankrupt}\")"
      ],
      "metadata": {
        "colab": {
          "base_uri": "https://localhost:8080/"
        },
        "id": "C96Se-owUSPk",
        "outputId": "7e6405fc-ec98-4336-dfd4-9798ac930d58"
      },
      "execution_count": null,
      "outputs": [
        {
          "output_type": "stream",
          "name": "stdout",
          "text": [
            "Число компаний банкротов: 10490.0\n"
          ]
        }
      ]
    },
    {
      "cell_type": "code",
      "source": [
        "data[\"Банкротство\"].value_counts()/2"
      ],
      "metadata": {
        "colab": {
          "base_uri": "https://localhost:8080/"
        },
        "outputId": "b2ac2c9f-97a3-4fb8-fbc2-d28437b1bdd6",
        "id": "V8ANLaKNUIeT"
      },
      "execution_count": null,
      "outputs": [
        {
          "output_type": "execute_result",
          "data": {
            "text/plain": [
              "0    1412660.0\n",
              "2       5245.0\n",
              "3       4827.0\n",
              "1        418.0\n",
              "Name: Банкротство, dtype: float64"
            ]
          },
          "metadata": {},
          "execution_count": 12
        }
      ]
    },
    {
      "cell_type": "code",
      "source": [
        ""
      ],
      "metadata": {
        "id": "tQaqhX0jYTfb"
      },
      "execution_count": null,
      "outputs": []
    },
    {
      "cell_type": "markdown",
      "source": [
        "Целевые данные очень несбалансированы. Необходимо их нормализовать."
      ],
      "metadata": {
        "id": "jbhKOV0hXUhd"
      }
    },
    {
      "cell_type": "markdown",
      "source": [
        "###Выявление зависимостей###"
      ],
      "metadata": {
        "id": "W0gZj-OOYO0f"
      }
    },
    {
      "cell_type": "code",
      "source": [
        "num_columns = data.loc[:,\"Основные средства , RUB\":\"Чистая прибыль (убыток), RUB\"]\n",
        "num_columns.head()"
      ],
      "metadata": {
        "colab": {
          "base_uri": "https://localhost:8080/",
          "height": 369
        },
        "id": "ecx2CtdyYd9n",
        "outputId": "94aa83e6-4670-4ec2-d66a-cc62f88d3f1e"
      },
      "execution_count": null,
      "outputs": [
        {
          "output_type": "execute_result",
          "data": {
            "text/plain": [
              "   Основные средства , RUB  Внеоборотные активы, RUB  Запасы, RUB  \\\n",
              "0                      NaN                       NaN          NaN   \n",
              "1                      NaN                       NaN     297000.0   \n",
              "2                      NaN                       NaN          NaN   \n",
              "3                      NaN                       NaN          NaN   \n",
              "4                  17000.0                   17000.0          NaN   \n",
              "\n",
              "   Дебиторская задолженность, RUB  Краткосрочные финансовые вложения, RUB  \\\n",
              "0                             NaN                                     NaN   \n",
              "1                         76000.0                                     NaN   \n",
              "2                       2526000.0                                     NaN   \n",
              "3                             NaN                                     NaN   \n",
              "4                             NaN                                     NaN   \n",
              "\n",
              "   Денежные средства и денежные эквиваленты, RUB  Оборотные активы, RUB  \\\n",
              "0                                            NaN                    NaN   \n",
              "1                                        73000.0               478000.0   \n",
              "2                                            NaN              2526000.0   \n",
              "3                                        22000.0                22000.0   \n",
              "4                                            NaN                    NaN   \n",
              "\n",
              "   Активы  всего, RUB  Нераспределенная прибыль (непокрытый убыток), RUB  \\\n",
              "0                 NaN                                                NaN   \n",
              "1            478000.0                                         -1151000.0   \n",
              "2           2526000.0                                          2486000.0   \n",
              "3             22000.0                                                NaN   \n",
              "4             17000.0                                                NaN   \n",
              "\n",
              "   Капитал и резервы, RUB  ...  Коммерческие расходы, RUB  \\\n",
              "0                     NaN  ...                        NaN   \n",
              "1              -1141000.0  ...                   129000.0   \n",
              "2               2496000.0  ...                        NaN   \n",
              "3                     NaN  ...                    47000.0   \n",
              "4                 17000.0  ...                        NaN   \n",
              "\n",
              "   Управленческие расходы, RUB  Прибыль (убыток) от продажи, RUB  \\\n",
              "0                          NaN                               NaN   \n",
              "1                          NaN                          -58000.0   \n",
              "2                     487000.0                          264000.0   \n",
              "3                          NaN                           19000.0   \n",
              "4                          NaN                          135000.0   \n",
              "\n",
              "   Проценты к получению, RUB  Проценты к уплате, RUB  Прочие доходы, RUB  \\\n",
              "0                        NaN                     NaN                 NaN   \n",
              "1                        NaN                     NaN                 NaN   \n",
              "2                        NaN                     NaN                 NaN   \n",
              "3                        NaN                     NaN                 NaN   \n",
              "4                        NaN                     NaN                 NaN   \n",
              "\n",
              "   Прочие расходы, RUB  Прибыль (убыток) до налогообложения , RUB  \\\n",
              "0                  NaN                                        NaN   \n",
              "1              11000.0                                   -69000.0   \n",
              "2              17000.0                                   247000.0   \n",
              "3               7000.0                                    12000.0   \n",
              "4                  NaN                                   135000.0   \n",
              "\n",
              "   Текущий налог на прибыль, RUB  Чистая прибыль (убыток), RUB  \n",
              "0                            NaN                           NaN  \n",
              "1                            NaN                      -69000.0  \n",
              "2                       -29000.0                      218000.0  \n",
              "3                            NaN                       12000.0  \n",
              "4                            NaN                      135000.0  \n",
              "\n",
              "[5 rows x 29 columns]"
            ],
            "text/html": [
              "\n",
              "  <div id=\"df-61abf9e2-d723-4855-98b1-5fb2e3aac81a\">\n",
              "    <div class=\"colab-df-container\">\n",
              "      <div>\n",
              "<style scoped>\n",
              "    .dataframe tbody tr th:only-of-type {\n",
              "        vertical-align: middle;\n",
              "    }\n",
              "\n",
              "    .dataframe tbody tr th {\n",
              "        vertical-align: top;\n",
              "    }\n",
              "\n",
              "    .dataframe thead th {\n",
              "        text-align: right;\n",
              "    }\n",
              "</style>\n",
              "<table border=\"1\" class=\"dataframe\">\n",
              "  <thead>\n",
              "    <tr style=\"text-align: right;\">\n",
              "      <th></th>\n",
              "      <th>Основные средства , RUB</th>\n",
              "      <th>Внеоборотные активы, RUB</th>\n",
              "      <th>Запасы, RUB</th>\n",
              "      <th>Дебиторская задолженность, RUB</th>\n",
              "      <th>Краткосрочные финансовые вложения, RUB</th>\n",
              "      <th>Денежные средства и денежные эквиваленты, RUB</th>\n",
              "      <th>Оборотные активы, RUB</th>\n",
              "      <th>Активы  всего, RUB</th>\n",
              "      <th>Нераспределенная прибыль (непокрытый убыток), RUB</th>\n",
              "      <th>Капитал и резервы, RUB</th>\n",
              "      <th>...</th>\n",
              "      <th>Коммерческие расходы, RUB</th>\n",
              "      <th>Управленческие расходы, RUB</th>\n",
              "      <th>Прибыль (убыток) от продажи, RUB</th>\n",
              "      <th>Проценты к получению, RUB</th>\n",
              "      <th>Проценты к уплате, RUB</th>\n",
              "      <th>Прочие доходы, RUB</th>\n",
              "      <th>Прочие расходы, RUB</th>\n",
              "      <th>Прибыль (убыток) до налогообложения , RUB</th>\n",
              "      <th>Текущий налог на прибыль, RUB</th>\n",
              "      <th>Чистая прибыль (убыток), RUB</th>\n",
              "    </tr>\n",
              "  </thead>\n",
              "  <tbody>\n",
              "    <tr>\n",
              "      <th>0</th>\n",
              "      <td>NaN</td>\n",
              "      <td>NaN</td>\n",
              "      <td>NaN</td>\n",
              "      <td>NaN</td>\n",
              "      <td>NaN</td>\n",
              "      <td>NaN</td>\n",
              "      <td>NaN</td>\n",
              "      <td>NaN</td>\n",
              "      <td>NaN</td>\n",
              "      <td>NaN</td>\n",
              "      <td>...</td>\n",
              "      <td>NaN</td>\n",
              "      <td>NaN</td>\n",
              "      <td>NaN</td>\n",
              "      <td>NaN</td>\n",
              "      <td>NaN</td>\n",
              "      <td>NaN</td>\n",
              "      <td>NaN</td>\n",
              "      <td>NaN</td>\n",
              "      <td>NaN</td>\n",
              "      <td>NaN</td>\n",
              "    </tr>\n",
              "    <tr>\n",
              "      <th>1</th>\n",
              "      <td>NaN</td>\n",
              "      <td>NaN</td>\n",
              "      <td>297000.0</td>\n",
              "      <td>76000.0</td>\n",
              "      <td>NaN</td>\n",
              "      <td>73000.0</td>\n",
              "      <td>478000.0</td>\n",
              "      <td>478000.0</td>\n",
              "      <td>-1151000.0</td>\n",
              "      <td>-1141000.0</td>\n",
              "      <td>...</td>\n",
              "      <td>129000.0</td>\n",
              "      <td>NaN</td>\n",
              "      <td>-58000.0</td>\n",
              "      <td>NaN</td>\n",
              "      <td>NaN</td>\n",
              "      <td>NaN</td>\n",
              "      <td>11000.0</td>\n",
              "      <td>-69000.0</td>\n",
              "      <td>NaN</td>\n",
              "      <td>-69000.0</td>\n",
              "    </tr>\n",
              "    <tr>\n",
              "      <th>2</th>\n",
              "      <td>NaN</td>\n",
              "      <td>NaN</td>\n",
              "      <td>NaN</td>\n",
              "      <td>2526000.0</td>\n",
              "      <td>NaN</td>\n",
              "      <td>NaN</td>\n",
              "      <td>2526000.0</td>\n",
              "      <td>2526000.0</td>\n",
              "      <td>2486000.0</td>\n",
              "      <td>2496000.0</td>\n",
              "      <td>...</td>\n",
              "      <td>NaN</td>\n",
              "      <td>487000.0</td>\n",
              "      <td>264000.0</td>\n",
              "      <td>NaN</td>\n",
              "      <td>NaN</td>\n",
              "      <td>NaN</td>\n",
              "      <td>17000.0</td>\n",
              "      <td>247000.0</td>\n",
              "      <td>-29000.0</td>\n",
              "      <td>218000.0</td>\n",
              "    </tr>\n",
              "    <tr>\n",
              "      <th>3</th>\n",
              "      <td>NaN</td>\n",
              "      <td>NaN</td>\n",
              "      <td>NaN</td>\n",
              "      <td>NaN</td>\n",
              "      <td>NaN</td>\n",
              "      <td>22000.0</td>\n",
              "      <td>22000.0</td>\n",
              "      <td>22000.0</td>\n",
              "      <td>NaN</td>\n",
              "      <td>NaN</td>\n",
              "      <td>...</td>\n",
              "      <td>47000.0</td>\n",
              "      <td>NaN</td>\n",
              "      <td>19000.0</td>\n",
              "      <td>NaN</td>\n",
              "      <td>NaN</td>\n",
              "      <td>NaN</td>\n",
              "      <td>7000.0</td>\n",
              "      <td>12000.0</td>\n",
              "      <td>NaN</td>\n",
              "      <td>12000.0</td>\n",
              "    </tr>\n",
              "    <tr>\n",
              "      <th>4</th>\n",
              "      <td>17000.0</td>\n",
              "      <td>17000.0</td>\n",
              "      <td>NaN</td>\n",
              "      <td>NaN</td>\n",
              "      <td>NaN</td>\n",
              "      <td>NaN</td>\n",
              "      <td>NaN</td>\n",
              "      <td>17000.0</td>\n",
              "      <td>NaN</td>\n",
              "      <td>17000.0</td>\n",
              "      <td>...</td>\n",
              "      <td>NaN</td>\n",
              "      <td>NaN</td>\n",
              "      <td>135000.0</td>\n",
              "      <td>NaN</td>\n",
              "      <td>NaN</td>\n",
              "      <td>NaN</td>\n",
              "      <td>NaN</td>\n",
              "      <td>135000.0</td>\n",
              "      <td>NaN</td>\n",
              "      <td>135000.0</td>\n",
              "    </tr>\n",
              "  </tbody>\n",
              "</table>\n",
              "<p>5 rows × 29 columns</p>\n",
              "</div>\n",
              "      <button class=\"colab-df-convert\" onclick=\"convertToInteractive('df-61abf9e2-d723-4855-98b1-5fb2e3aac81a')\"\n",
              "              title=\"Convert this dataframe to an interactive table.\"\n",
              "              style=\"display:none;\">\n",
              "        \n",
              "  <svg xmlns=\"http://www.w3.org/2000/svg\" height=\"24px\"viewBox=\"0 0 24 24\"\n",
              "       width=\"24px\">\n",
              "    <path d=\"M0 0h24v24H0V0z\" fill=\"none\"/>\n",
              "    <path d=\"M18.56 5.44l.94 2.06.94-2.06 2.06-.94-2.06-.94-.94-2.06-.94 2.06-2.06.94zm-11 1L8.5 8.5l.94-2.06 2.06-.94-2.06-.94L8.5 2.5l-.94 2.06-2.06.94zm10 10l.94 2.06.94-2.06 2.06-.94-2.06-.94-.94-2.06-.94 2.06-2.06.94z\"/><path d=\"M17.41 7.96l-1.37-1.37c-.4-.4-.92-.59-1.43-.59-.52 0-1.04.2-1.43.59L10.3 9.45l-7.72 7.72c-.78.78-.78 2.05 0 2.83L4 21.41c.39.39.9.59 1.41.59.51 0 1.02-.2 1.41-.59l7.78-7.78 2.81-2.81c.8-.78.8-2.07 0-2.86zM5.41 20L4 18.59l7.72-7.72 1.47 1.35L5.41 20z\"/>\n",
              "  </svg>\n",
              "      </button>\n",
              "      \n",
              "  <style>\n",
              "    .colab-df-container {\n",
              "      display:flex;\n",
              "      flex-wrap:wrap;\n",
              "      gap: 12px;\n",
              "    }\n",
              "\n",
              "    .colab-df-convert {\n",
              "      background-color: #E8F0FE;\n",
              "      border: none;\n",
              "      border-radius: 50%;\n",
              "      cursor: pointer;\n",
              "      display: none;\n",
              "      fill: #1967D2;\n",
              "      height: 32px;\n",
              "      padding: 0 0 0 0;\n",
              "      width: 32px;\n",
              "    }\n",
              "\n",
              "    .colab-df-convert:hover {\n",
              "      background-color: #E2EBFA;\n",
              "      box-shadow: 0px 1px 2px rgba(60, 64, 67, 0.3), 0px 1px 3px 1px rgba(60, 64, 67, 0.15);\n",
              "      fill: #174EA6;\n",
              "    }\n",
              "\n",
              "    [theme=dark] .colab-df-convert {\n",
              "      background-color: #3B4455;\n",
              "      fill: #D2E3FC;\n",
              "    }\n",
              "\n",
              "    [theme=dark] .colab-df-convert:hover {\n",
              "      background-color: #434B5C;\n",
              "      box-shadow: 0px 1px 3px 1px rgba(0, 0, 0, 0.15);\n",
              "      filter: drop-shadow(0px 1px 2px rgba(0, 0, 0, 0.3));\n",
              "      fill: #FFFFFF;\n",
              "    }\n",
              "  </style>\n",
              "\n",
              "      <script>\n",
              "        const buttonEl =\n",
              "          document.querySelector('#df-61abf9e2-d723-4855-98b1-5fb2e3aac81a button.colab-df-convert');\n",
              "        buttonEl.style.display =\n",
              "          google.colab.kernel.accessAllowed ? 'block' : 'none';\n",
              "\n",
              "        async function convertToInteractive(key) {\n",
              "          const element = document.querySelector('#df-61abf9e2-d723-4855-98b1-5fb2e3aac81a');\n",
              "          const dataTable =\n",
              "            await google.colab.kernel.invokeFunction('convertToInteractive',\n",
              "                                                     [key], {});\n",
              "          if (!dataTable) return;\n",
              "\n",
              "          const docLinkHtml = 'Like what you see? Visit the ' +\n",
              "            '<a target=\"_blank\" href=https://colab.research.google.com/notebooks/data_table.ipynb>data table notebook</a>'\n",
              "            + ' to learn more about interactive tables.';\n",
              "          element.innerHTML = '';\n",
              "          dataTable['output_type'] = 'display_data';\n",
              "          await google.colab.output.renderOutput(dataTable, element);\n",
              "          const docLink = document.createElement('div');\n",
              "          docLink.innerHTML = docLinkHtml;\n",
              "          element.appendChild(docLink);\n",
              "        }\n",
              "      </script>\n",
              "    </div>\n",
              "  </div>\n",
              "  "
            ]
          },
          "metadata": {},
          "execution_count": 20
        }
      ]
    },
    {
      "cell_type": "code",
      "source": [
        "import seaborn as sns\n",
        "\n",
        "plt.figure(figsize=(14,10))\n",
        "sns.heatmap(num_columns.corr())"
      ],
      "metadata": {
        "colab": {
          "base_uri": "https://localhost:8080/",
          "height": 898
        },
        "id": "8a7CkSctZilV",
        "outputId": "90ae16af-0d96-4744-b7d3-d9acfc109807"
      },
      "execution_count": null,
      "outputs": [
        {
          "output_type": "execute_result",
          "data": {
            "text/plain": [
              "<matplotlib.axes._subplots.AxesSubplot at 0x7f3d9994d390>"
            ]
          },
          "metadata": {},
          "execution_count": 23
        },
        {
          "output_type": "display_data",
          "data": {
            "text/plain": [
              "<Figure size 1008x720 with 2 Axes>"
            ],
            "image/png": "[encoded data removed]"
          },
          "metadata": {
            "needs_background": "light"
          }
        }
      ]
    },
    {
      "cell_type": "markdown",
      "source": [
        "Из карты видно, что между некоторыми атрибутами, например между Выручкой, Себестоимостью, Валовой прибылью и Комерческими расходами, существуют сильные зависимости. Это означает, что некоторые из этих атрибутов можно удалить из выборки для улучшения модели, но пока их оставим."
      ],
      "metadata": {
        "id": "dRg-kxT3aF-C"
      }
    }
  ]
}